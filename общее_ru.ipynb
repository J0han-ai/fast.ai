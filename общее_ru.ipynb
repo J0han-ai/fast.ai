{
  "nbformat": 4,
  "nbformat_minor": 0,
  "metadata": {
    "colab": {
      "name": "общее ru.ipynb",
      "provenance": [],
      "authorship_tag": "ABX9TyNBOTg2hdJWYWHeSy6xaKzF",
      "include_colab_link": true
    },
    "kernelspec": {
      "name": "python3",
      "display_name": "Python 3"
    },
    "language_info": {
      "name": "python"
    }
  },
  "cells": [
    {
      "cell_type": "markdown",
      "metadata": {
        "id": "view-in-github",
        "colab_type": "text"
      },
      "source": [
        "<a href=\"https://colab.research.google.com/github/J0han-ai/fast.ai/blob/main/%D0%BE%D0%B1%D1%89%D0%B5%D0%B5_ru.ipynb\" target=\"_parent\"><img src=\"https://colab.research.google.com/assets/colab-badge.svg\" alt=\"Open In Colab\"/></a>"
      ]
    },
    {
      "cell_type": "markdown",
      "metadata": {
        "id": "vmdqIghr2oVX"
      },
      "source": [
        "Pytorch to fastai, Bridging the Gap\n",
        "Понимание того, как перенести код Pytorch в пространство fastai \n",
        "\n",
        "Feb 14, 2021 - 4 min read\n",
        "\n",
        "\n",
        "\n",
        "\n",
        "Эта статья также представляет собой Jupyter Notebook, доступный для запуска сверху вниз. В нем будут фрагменты кода, которые вы сможете запустить в любой среде.\n",
        "Ниже приведены версии fastai, fastcore, torch и torchvision, работающие на момент написания этой статьи:\n",
        "fastai: 2.2.5\n",
        "fastcore: 1.3.19\n",
        "torch: 1.7.0+cu101\n",
        "torchvision: 0.8.1+cu101\n",
        "\n",
        "Решение проблемы \"слона в комнате\n",
        "Недавно я опубликовал твит с вопросом о том, с чем люди больше всего сталкиваются в fastai, и самым популярным ответом был вопрос о том, как минимально интегрироваться с Pytorch. Похоже, сложилось впечатление, что для использования fastai нужно использовать только полный fastai API, и ничего больше.\n",
        "Давайте сейчас развеем это заблуждение:\n",
        "  Важно: fastai по своей сути - это цикл обучения, разработанный для того, чтобы быть независимым от фреймворка. Вы можете использовать любую версию Pytorch, какую захотите, и использовать fastai только для быстрого и эффективного обучения модели с использованием самых современных методов.\n",
        "План\n",
        "Теперь, когда все заблуждения устранены, давайте рассмотрим, как это должно происходить. Мы будем следовать официальному руководству Pytorch CIFAR10 и покажем, что минимально необходимо сделать во фреймворке fastai, чтобы использовать все преимущества Learner. Это будет включать в себя:\n",
        "Набор данных\n",
        "Загрузчики данных\n",
        "Модель\n",
        "Оптимизатор\n",
        "Набор данных и загрузчики данных\n",
        "Следуя руководству, мы загрузим набор данных, используя только torchvision. Сначала мы возьмем наши импорты:\n"
      ]
    },
    {
      "cell_type": "code",
      "metadata": {
        "id": "rfOSZQoY04eT"
      },
      "source": [
        "import torch\n",
        "import torchvision\n",
        "import torchvision.transforms as transforms\n"
      ],
      "execution_count": null,
      "outputs": []
    },
    {
      "cell_type": "markdown",
      "metadata": {
        "id": "YVmkGt451ANG"
      },
      "source": [
        "Далее мы определим некоторые минимальные преобразования:\n"
      ]
    },
    {
      "cell_type": "code",
      "metadata": {
        "id": "hH1F05481EVW"
      },
      "source": [
        "transform = transforms.Compose(\n",
        "    [transforms.ToTensor(),\n",
        "     transforms.Normalize((0.5,0.5,0.5), (0.5,0.5,0.5))])\n",
        "\n"
      ],
      "execution_count": null,
      "outputs": []
    },
    {
      "cell_type": "markdown",
      "metadata": {
        "id": "V0gjrCGR1ISR"
      },
      "source": [
        "Перед загрузкой наших обучающего и тестового наборов:\n",
        " Примечание: я использую соглашения об именовании, аналогичные тому, как fastai называет вещи, так что вы можете видеть, как они могут быть связаны друг с другом\n"
      ]
    },
    {
      "cell_type": "code",
      "metadata": {
        "id": "odoECvt51LsV"
      },
      "source": [
        "dset_train = torchvision.datasets.CIFAR10(root='./data', train=True,\n",
        "                                        download=True, transform=transform)\n",
        " \n",
        "Files already downloaded and verified\n",
        " \n",
        "dset_test = torchvision.datasets.CIFAR10(root='./data', train=False,\n",
        "                                       download=True, transform=transform)\n",
        " \n",
        "Files already downloaded and verified\n",
        " \n",
        "Next we'll make our Dataloaders:\n",
        "trainloader = torch.utils.data.DataLoader(dset_train, batch_size=4,\n",
        "                                          shuffle=True, num_workers=2)\n",
        "testloader = torch.utils.data.DataLoader(dset_test, batch_size=4,\n",
        "                                         shuffle=False, num_workers=2)\n",
        " \n",
        "\n"
      ],
      "execution_count": null,
      "outputs": []
    },
    {
      "cell_type": "markdown",
      "metadata": {
        "id": "QNXzyA0n1UI6"
      },
      "source": [
        "И на этом мы пока остановимся, перейдем к следующей модели\n",
        "Модель\n",
        "Мы возьмем архитектуру из учебника и используем ее здесь:\n"
      ]
    },
    {
      "cell_type": "code",
      "metadata": {
        "id": "gHF9iLNK1Xr6"
      },
      "source": [
        "import torch.nn as nn\n",
        "import torch.nn.functional as F\n",
        " \n",
        "class Net(nn.Module):\n",
        "    def __init__(self):\n",
        "        super(Net, self).__init__()\n",
        "        self.conv1 = nn.Conv2d(3, 6, 5)\n",
        "        self.pool = nn.MaxPool2d(2, 2)\n",
        "        self.conv2 = nn.Conv2d(6, 16, 5)\n",
        "        self.fc1 = nn.Linear(16 * 5 * 5, 120)\n",
        "        self.fc2 = nn.Linear(120, 84)\n",
        "        self.fc3 = nn.Linear(84, 10)\n",
        "\n",
        "    def forward(self, x):\n",
        "        x = self.pool(F.relu(self.conv1(x)))\n",
        "        x = self.pool(F.relu(self.conv2(x)))\n",
        "        x = x.view(-1, 16 * 5 * 5)\n",
        "        x = F.relu(self.fc1(x))\n",
        "        x = F.relu(self.fc2(x))\n",
        "        x = self.fc3(x)\n",
        "        return x\n"
      ],
      "execution_count": null,
      "outputs": []
    },
    {
      "cell_type": "markdown",
      "metadata": {
        "id": "yAd0mw8w1a1b"
      },
      "source": [
        "И наконец, мы создадим его экземпляр:\n"
      ]
    },
    {
      "cell_type": "code",
      "metadata": {
        "id": "j6zXKcKv1c83"
      },
      "source": [
        "net = Net()\n"
      ],
      "execution_count": null,
      "outputs": []
    },
    {
      "cell_type": "markdown",
      "metadata": {
        "id": "cY6FyiOB1fyX"
      },
      "source": [
        "Функция потерь и оптимизатор\n",
        "Далее мы введем их функцию потерь и оптимизатор.\n",
        "Функция потерь достаточно проста:\n"
      ]
    },
    {
      "cell_type": "code",
      "metadata": {
        "id": "62irChuW1iMx"
      },
      "source": [
        "criterion = nn.CrossEntropyLoss()\n"
      ],
      "execution_count": null,
      "outputs": []
    },
    {
      "cell_type": "markdown",
      "metadata": {
        "id": "llQ08xge1ldg"
      },
      "source": [
        "Однако оптимизатор требует немного магии fastai, в частности, в виде OptimWrapper. Наша функция оптимизатора должна быть определена следующим образом"
      ]
    },
    {
      "cell_type": "code",
      "metadata": {
        "id": "r7Gz2KZK1odo"
      },
      "source": [
        "from fastai.optimizer import OptimWrapper\n",
        "from torch import optim\n",
        " \n",
        "def opt_func(params, **kwargs): return OptimWrapper(optim.SGD(params, lr=0.001))\n"
      ],
      "execution_count": null,
      "outputs": []
    },
    {
      "cell_type": "markdown",
      "metadata": {
        "id": "BejRXKdr1rM0"
      },
      "source": [
        "Обучение\n",
        "Теперь у нас есть все необходимое для обучения модели, так что теперь давайте запустим цикл обучения fastai, также известный как Learner.\n",
        "Училка fastai ожидает, что будут использоваться DataLoader'ы, а не просто один DataLoader, поэтому давайте сделаем так:\n",
        " Примечание: fastai также ожидает присутствия валидационного DataLoader, поэтому мы будем привязывать сюда тестовый загрузчик\n"
      ]
    },
    {
      "cell_type": "code",
      "metadata": {
        "id": "CajRmY9l13I1"
      },
      "source": [
        "from fastai.data.core import DataLoaders\n",
        " \n",
        "dls = DataLoaders(trainloader, testloader)\n"
      ],
      "execution_count": null,
      "outputs": []
    },
    {
      "cell_type": "markdown",
      "metadata": {
        "id": "NYRNtLPn2ALX"
      },
      "source": [
        "Наконец, мы собираемся завершить все это в Learner. Как уже упоминалось, Learner - это клей, который соединяет все вместе и позволяет пользователям использовать политику Лесли Смит \"Один цикл\", поиск скорости обучения и другие преимущества обучения fastai.\n",
        "Давайте создадим его, передав наши dls, модель, оптимизатор и функцию потерь:\n"
      ]
    },
    {
      "cell_type": "code",
      "metadata": {
        "id": "NjrAK9Qj2Dfj"
      },
      "source": [
        "from fastai.learner import Learner"
      ],
      "execution_count": null,
      "outputs": []
    },
    {
      "cell_type": "markdown",
      "metadata": {
        "id": "uXvr_gwP2Jot"
      },
      "source": [
        "Чтобы получить причудливо выглядящий прогресс-бар fastai, нам нужно импортировать ProgressCallback:\n"
      ]
    },
    {
      "cell_type": "code",
      "metadata": {
        "id": "4AH1026Q2KhC"
      },
      "source": [
        "from fastai.callback.progress import ProgressCallback\n"
      ],
      "execution_count": null,
      "outputs": []
    },
    {
      "cell_type": "markdown",
      "metadata": {
        "id": "HbmfR5uS2Nry"
      },
      "source": [
        "Нам также нужно передать CudaCallback, чтобы наши пакеты можно было переместить на GPU (DataLoaders в fastai может сделать это автоматически).\n"
      ]
    },
    {
      "cell_type": "code",
      "metadata": {
        "id": "znePWOVh2Qiz"
      },
      "source": [
        "from fastai.callback.data import CudaCallback\n",
        " \n",
        "learn = Learner(dls, net, loss_func=criterion, opt_func=opt_func, cbs=[CudaCallback])\n",
        " \n"
      ],
      "execution_count": null,
      "outputs": []
    },
    {
      "cell_type": "markdown",
      "metadata": {
        "id": "iPyAN7Ek2S12"
      },
      "source": [
        "Наконец, давайте проведем минимальную тренировку.\n",
        "Теперь у нас есть все необходимое для базовой подгонки:\n",
        " Примечание: Поскольку мы уже передали скорость обучения в Learner, нам не нужно передавать ее здесь.\n"
      ]
    },
    {
      "cell_type": "code",
      "metadata": {
        "id": "vcQRCvTa2Vtq"
      },
      "source": [
        "learn.fit(2)"
      ],
      "execution_count": null,
      "outputs": []
    },
    {
      "cell_type": "markdown",
      "metadata": {
        "id": "VUQLT66x2Ycm"
      },
      "source": [
        "Что дальше?\n",
        "Отлично, теперь мы обучили нашу модель, но что нам с ней делать? Как ее вывести?\n",
        "Ваша модель находится в learn.model, и мы уже видели, что ранее мы передали обычную модель Pytorch. Поскольку мы используем базовый класс Learner из fastai, сама модель не была изменена. В результате, это все еще обычная модель Pytorch, которую мы можем сохранить:\n"
      ]
    },
    {
      "cell_type": "code",
      "metadata": {
        "id": "HtIDCOlf2dCG"
      },
      "source": [
        "torch.save(learn.model.state_dict(), './cifar_net.pth')\n"
      ],
      "execution_count": null,
      "outputs": []
    },
    {
      "cell_type": "markdown",
      "metadata": {
        "id": "UfTO0XhX2gjt"
      },
      "source": [
        "И это действительно все! Как вы можете видеть, минимальное, что вы можете получить при использовании фреймворка fastai, это:\n",
        "Pytorch DataLoader\n",
        "Pytorch model\n",
        "fastai Learner\n",
        "fastai Optimizer\n",
        "Заключительные замечания\n",
        "Я надеюсь, что это просветило вас о том, насколько гибким может быть фреймворк fastai для ваших учебных нужд с идеалистической целью просто получить модель.\n",
        "Поскольку мы убрали большую часть  framework fastai, с этого момента вы должны использовать стандартный Pytorch, так как специфические для fastai функции, такие как test_dl и predict, больше не смогут быть использованы, поскольку вы не использовали fastai DataLoader.\n",
        "Спасибо, что читаете!\n"
      ]
    },
    {
      "cell_type": "markdown",
      "metadata": {
        "id": "gqL4GDnQ1O4F"
      },
      "source": [
        ""
      ]
    }
  ]
}