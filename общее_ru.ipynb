{
  "nbformat": 4,
  "nbformat_minor": 0,
  "metadata": {
    "colab": {
      "name": "общее ru.ipynb",
      "provenance": [],
      "authorship_tag": "ABX9TyP9pJXoa7uH5npOm3ZwQop3",
      "include_colab_link": true
    },
    "kernelspec": {
      "name": "python3",
      "display_name": "Python 3"
    },
    "language_info": {
      "name": "python"
    },
    "accelerator": "GPU"
  },
  "cells": [
    {
      "cell_type": "markdown",
      "metadata": {
        "id": "view-in-github",
        "colab_type": "text"
      },
      "source": [
        "<a href=\"https://colab.research.google.com/github/J0han-ai/fast.ai/blob/main/%D0%BE%D0%B1%D1%89%D0%B5%D0%B5_ru.ipynb\" target=\"_parent\"><img src=\"https://colab.research.google.com/assets/colab-badge.svg\" alt=\"Open In Colab\"/></a>"
      ]
    },
    {
      "cell_type": "markdown",
      "metadata": {
        "id": "vmdqIghr2oVX"
      },
      "source": [
        "Pytorch to fastai, Bridging the Gap\n",
        "Понимание того, как перенести код Pytorch в пространство fastai \n",
        "\n",
        "Feb 14, 2021 - 4 min read\n",
        "\n",
        "\n",
        "\n",
        "\n",
        "Эта статья также представляет собой Jupyter Notebook, доступный для запуска сверху вниз. В нем будут фрагменты кода, которые вы сможете запустить в любой среде.\n",
        "Ниже приведены версии fastai, fastcore, torch и torchvision, работающие на момент написания этой статьи:\n",
        "fastai: 2.2.5\n",
        "fastcore: 1.3.19\n",
        "torch: 1.7.0+cu101\n",
        "torchvision: 0.8.1+cu101\n",
        "\n",
        "Решение проблемы \"слона в комнате\n",
        "Недавно я опубликовал твит с вопросом о том, с чем люди больше всего сталкиваются в fastai, и самым популярным ответом был вопрос о том, как минимально интегрироваться с Pytorch. Похоже, сложилось впечатление, что для использования fastai нужно использовать только полный fastai API, и ничего больше.\n",
        "Давайте сейчас развеем это заблуждение:\n",
        "  Важно: fastai по своей сути - это цикл обучения, разработанный для того, чтобы быть независимым от фреймворка. Вы можете использовать любую версию Pytorch, какую захотите, и использовать fastai только для быстрого и эффективного обучения модели с использованием самых современных методов.\n",
        "План\n",
        "Теперь, когда все заблуждения устранены, давайте рассмотрим, как это должно происходить. Мы будем следовать официальному руководству Pytorch CIFAR10 и покажем, что минимально необходимо сделать во фреймворке fastai, чтобы использовать все преимущества Learner. Это будет включать в себя:\n",
        "Набор данных\n",
        "Загрузчики данных\n",
        "Модель\n",
        "Оптимизатор\n",
        "Набор данных и загрузчики данных\n",
        "Следуя руководству, мы загрузим набор данных, используя только torchvision. Сначала мы возьмем наши импорты:\n"
      ]
    },
    {
      "cell_type": "code",
      "metadata": {
        "colab": {
          "base_uri": "https://localhost:8080/"
        },
        "id": "3lS2Rhxlc7vf",
        "outputId": "e837e5fc-a8de-4593-f797-daf1f6272926"
      },
      "source": [
        "from google.colab import drive\n",
        "drive.mount('/content/gdrive')"
      ],
      "execution_count": 4,
      "outputs": [
        {
          "output_type": "stream",
          "text": [
            "Mounted at /content/gdrive\n"
          ],
          "name": "stdout"
        }
      ]
    },
    {
      "cell_type": "code",
      "metadata": {
        "id": "rfOSZQoY04eT"
      },
      "source": [
        "import torch\n",
        "import torchvision\n",
        "import torchvision.transforms as transforms\n"
      ],
      "execution_count": 1,
      "outputs": []
    },
    {
      "cell_type": "markdown",
      "metadata": {
        "id": "YVmkGt451ANG"
      },
      "source": [
        "Далее мы определим некоторые минимальные преобразования:\n"
      ]
    },
    {
      "cell_type": "code",
      "metadata": {
        "id": "hH1F05481EVW"
      },
      "source": [
        "transform = transforms.Compose(\n",
        "    [transforms.ToTensor(),\n",
        "     transforms.Normalize((0.5,0.5,0.5), (0.5,0.5,0.5))])\n",
        "\n"
      ],
      "execution_count": 2,
      "outputs": []
    },
    {
      "cell_type": "code",
      "metadata": {
        "id": "hkjmavHX8-Gv"
      },
      "source": [
        "# необходимо разпаковать датасеты в окружение, делается это так:архивируем каталоги в .zip и потом размещаем для закачки в нашу модель на своем Гугл_диске , в корне,  под названиями test.zip и train.zip.в виртуальной машине разархивированные файлы разместить в каталоге /content/dataset/ соответственно.\n",
        "import zipfile\n",
        "with zipfile.ZipFile('/content/gdrive/My Drive/cifar.zip', 'r') as zip_ref:\n",
        "  zip_ref.extractall('/content/dataset')\n",
        "\n",
        "  "
      ],
      "execution_count": 5,
      "outputs": []
    },
    {
      "cell_type": "code",
      "metadata": {
        "id": "IxgyA1Ee_BES"
      },
      "source": [
        ""
      ],
      "execution_count": null,
      "outputs": []
    },
    {
      "cell_type": "markdown",
      "metadata": {
        "id": "V0gjrCGR1ISR"
      },
      "source": [
        "Перед загрузкой наших обучающего и тестового наборов:\n",
        " Примечание: я использую соглашения об именовании, аналогичные тому, как fastai называет вещи, так что вы можете видеть, как они могут быть связаны друг с другом\n"
      ]
    },
    {
      "cell_type": "code",
      "metadata": {
        "colab": {
          "base_uri": "https://localhost:8080/",
          "height": 129
        },
        "id": "odoECvt51LsV",
        "outputId": "ddad5065-f4cf-4f9a-fcfa-767240e5f5d1"
      },
      "source": [
        "dset_train = torchvision.datasets.CIFAR10(root='/content/dataset/cifar10', train=True,\n",
        "                                        download=True, transform=transform)\n",
        " dset_test = torchvision.datasets.CIFAR10(root='/content/dataset/cifar10', train=False,\n",
        "                                       download=True, transform=transform)\n",
        " \n"
      ],
      "execution_count": 7,
      "outputs": [
        {
          "output_type": "error",
          "ename": "IndentationError",
          "evalue": "ignored",
          "traceback": [
            "\u001b[0;36m  File \u001b[0;32m\"<ipython-input-7-92bae2fe1ecf>\"\u001b[0;36m, line \u001b[0;32m3\u001b[0m\n\u001b[0;31m    dset_test = torchvision.datasets.CIFAR10(root='/content/dataset/cifar10', train=False,\u001b[0m\n\u001b[0m    ^\u001b[0m\n\u001b[0;31mIndentationError\u001b[0m\u001b[0;31m:\u001b[0m unexpected indent\n"
          ]
        }
      ]
    },
    {
      "cell_type": "markdown",
      "metadata": {
        "id": "ER5UEeHm50f5"
      },
      "source": [
        "Files already downloaded and verified\n",
        "Next we'll make our Dataloaders:"
      ]
    },
    {
      "cell_type": "code",
      "metadata": {
        "id": "jIK5ppeJ52cO"
      },
      "source": [
        "trainloader = torch.utils.data.DataLoader(dset_train, batch_size=4,\n",
        "                                          shuffle=True, num_workers=2)\n",
        "testloader = torch.utils.data.DataLoader(dset_test, batch_size=4,\n",
        "                                         shuffle=False, num_workers=2)\n",
        " "
      ],
      "execution_count": null,
      "outputs": []
    },
    {
      "cell_type": "markdown",
      "metadata": {
        "id": "QNXzyA0n1UI6"
      },
      "source": [
        "И на этом мы пока остановимся, перейдем к следующей модели\n",
        "Модель\n",
        "Мы возьмем архитектуру из учебника и используем ее здесь:\n"
      ]
    },
    {
      "cell_type": "code",
      "metadata": {
        "id": "gHF9iLNK1Xr6"
      },
      "source": [
        "import torch.nn as nn\n",
        "import torch.nn.functional as F\n",
        " \n",
        "class Net(nn.Module):\n",
        "    def __init__(self):\n",
        "        super(Net, self).__init__()\n",
        "        self.conv1 = nn.Conv2d(3, 6, 5)\n",
        "        self.pool = nn.MaxPool2d(2, 2)\n",
        "        self.conv2 = nn.Conv2d(6, 16, 5)\n",
        "        self.fc1 = nn.Linear(16 * 5 * 5, 120)\n",
        "        self.fc2 = nn.Linear(120, 84)\n",
        "        self.fc3 = nn.Linear(84, 10)\n",
        "\n",
        "    def forward(self, x):\n",
        "        x = self.pool(F.relu(self.conv1(x)))\n",
        "        x = self.pool(F.relu(self.conv2(x)))\n",
        "        x = x.view(-1, 16 * 5 * 5)\n",
        "        x = F.relu(self.fc1(x))\n",
        "        x = F.relu(self.fc2(x))\n",
        "        x = self.fc3(x)\n",
        "        return x\n"
      ],
      "execution_count": 4,
      "outputs": []
    },
    {
      "cell_type": "markdown",
      "metadata": {
        "id": "yAd0mw8w1a1b"
      },
      "source": [
        "И наконец, мы создадим его экземпляр:\n"
      ]
    },
    {
      "cell_type": "code",
      "metadata": {
        "id": "j6zXKcKv1c83"
      },
      "source": [
        "net = Net()\n"
      ],
      "execution_count": 5,
      "outputs": []
    },
    {
      "cell_type": "markdown",
      "metadata": {
        "id": "cY6FyiOB1fyX"
      },
      "source": [
        "Функция потерь и оптимизатор\n",
        "Далее мы введем их функцию потерь и оптимизатор.\n",
        "Функция потерь достаточно проста:\n"
      ]
    },
    {
      "cell_type": "code",
      "metadata": {
        "id": "62irChuW1iMx"
      },
      "source": [
        "criterion = nn.CrossEntropyLoss()\n"
      ],
      "execution_count": 8,
      "outputs": []
    },
    {
      "cell_type": "markdown",
      "metadata": {
        "id": "llQ08xge1ldg"
      },
      "source": [
        "Однако оптимизатор требует немного магии fastai, в частности, в виде OptimWrapper. Наша функция оптимизатора должна быть определена следующим образом"
      ]
    },
    {
      "cell_type": "code",
      "metadata": {
        "id": "r7Gz2KZK1odo"
      },
      "source": [
        "from fastai.optimizer import OptimWrapper\n",
        "from torch import optim\n",
        " \n",
        "def opt_func(params, **kwargs): return OptimWrapper(optim.SGD(params, lr=0.001))\n"
      ],
      "execution_count": 14,
      "outputs": []
    },
    {
      "cell_type": "markdown",
      "metadata": {
        "id": "BejRXKdr1rM0"
      },
      "source": [
        "Обучение\n",
        "Теперь у нас есть все необходимое для обучения модели, так что теперь давайте запустим цикл обучения fastai, также известный как Learner.\n",
        " Learner fastai ожидает, что будут использоваться DataLoader'ы, а не просто один DataLoader, поэтому давайте сделаем так:\n",
        " Примечание: fastai также ожидает присутствия валидационного DataLoader, поэтому мы будем привязывать сюда тестовый загрузчик\n"
      ]
    },
    {
      "cell_type": "code",
      "metadata": {
        "colab": {
          "base_uri": "https://localhost:8080/",
          "height": 35
        },
        "id": "OiP7_W1A4Q69",
        "outputId": "84c8b1f0-de2b-4034-9830-81dee4d3952b"
      },
      "source": [
        "import fastai\n",
        "fastai.__version__"
      ],
      "execution_count": 11,
      "outputs": [
        {
          "output_type": "execute_result",
          "data": {
            "application/vnd.google.colaboratory.intrinsic+json": {
              "type": "string"
            },
            "text/plain": [
              "'1.0.61'"
            ]
          },
          "metadata": {
            "tags": []
          },
          "execution_count": 11
        }
      ]
    },
    {
      "cell_type": "code",
      "metadata": {
        "colab": {
          "base_uri": "https://localhost:8080/",
          "height": 972
        },
        "id": "Bbjf-q_V43jV",
        "outputId": "43b6e5fe-5c81-40e3-9273-7e6a8d5bdd3d"
      },
      "source": [
        " #!pip install -U fastai #скачаем последнюю версию фаст аи "
      ],
      "execution_count": 13,
      "outputs": [
        {
          "output_type": "stream",
          "text": [
            "Collecting fastai\n",
            "\u001b[?25l  Downloading https://files.pythonhosted.org/packages/bd/ca/bc9f4e04adcdfda1357f5c63bc67a7bf4f315883ca544726f3376b1ed068/fastai-2.4-py3-none-any.whl (187kB)\n",
            "\r\u001b[K     |█▊                              | 10kB 23.9MB/s eta 0:00:01\r\u001b[K     |███▌                            | 20kB 29.8MB/s eta 0:00:01\r\u001b[K     |█████▎                          | 30kB 32.4MB/s eta 0:00:01\r\u001b[K     |███████                         | 40kB 33.2MB/s eta 0:00:01\r\u001b[K     |████████▊                       | 51kB 35.4MB/s eta 0:00:01\r\u001b[K     |██████████▌                     | 61kB 36.9MB/s eta 0:00:01\r\u001b[K     |████████████▏                   | 71kB 36.5MB/s eta 0:00:01\r\u001b[K     |██████████████                  | 81kB 34.8MB/s eta 0:00:01\r\u001b[K     |███████████████▊                | 92kB 35.3MB/s eta 0:00:01\r\u001b[K     |█████████████████▍              | 102kB 35.1MB/s eta 0:00:01\r\u001b[K     |███████████████████▏            | 112kB 35.1MB/s eta 0:00:01\r\u001b[K     |█████████████████████           | 122kB 35.1MB/s eta 0:00:01\r\u001b[K     |██████████████████████▊         | 133kB 35.1MB/s eta 0:00:01\r\u001b[K     |████████████████████████▍       | 143kB 35.1MB/s eta 0:00:01\r\u001b[K     |██████████████████████████▏     | 153kB 35.1MB/s eta 0:00:01\r\u001b[K     |████████████████████████████    | 163kB 35.1MB/s eta 0:00:01\r\u001b[K     |█████████████████████████████▋  | 174kB 35.1MB/s eta 0:00:01\r\u001b[K     |███████████████████████████████▍| 184kB 35.1MB/s eta 0:00:01\r\u001b[K     |████████████████████████████████| 194kB 35.1MB/s \n",
            "\u001b[?25hRequirement already satisfied, skipping upgrade: scikit-learn in /usr/local/lib/python3.7/dist-packages (from fastai) (0.22.2.post1)\n",
            "Requirement already satisfied, skipping upgrade: spacy<4 in /usr/local/lib/python3.7/dist-packages (from fastai) (2.2.4)\n",
            "Requirement already satisfied, skipping upgrade: scipy in /usr/local/lib/python3.7/dist-packages (from fastai) (1.4.1)\n",
            "Collecting fastcore<1.4,>=1.3.8\n",
            "\u001b[?25l  Downloading https://files.pythonhosted.org/packages/d8/b0/f1fbf554e0bf3c76e1bdc3b82eedfe41fcf656479586be38c64421082b1b/fastcore-1.3.20-py3-none-any.whl (53kB)\n",
            "\u001b[K     |████████████████████████████████| 61kB 9.5MB/s \n",
            "\u001b[?25hRequirement already satisfied, skipping upgrade: pillow>6.0.0 in /usr/local/lib/python3.7/dist-packages (from fastai) (7.1.2)\n",
            "Requirement already satisfied, skipping upgrade: pyyaml in /usr/local/lib/python3.7/dist-packages (from fastai) (3.13)\n",
            "Requirement already satisfied, skipping upgrade: fastprogress>=0.2.4 in /usr/local/lib/python3.7/dist-packages (from fastai) (1.0.0)\n",
            "Requirement already satisfied, skipping upgrade: torchvision>=0.8.2 in /usr/local/lib/python3.7/dist-packages (from fastai) (0.10.0+cu102)\n",
            "Requirement already satisfied, skipping upgrade: packaging in /usr/local/lib/python3.7/dist-packages (from fastai) (20.9)\n",
            "Requirement already satisfied, skipping upgrade: pandas in /usr/local/lib/python3.7/dist-packages (from fastai) (1.1.5)\n",
            "Requirement already satisfied, skipping upgrade: torch<1.10,>=1.7.0 in /usr/local/lib/python3.7/dist-packages (from fastai) (1.9.0+cu102)\n",
            "Requirement already satisfied, skipping upgrade: pip in /usr/local/lib/python3.7/dist-packages (from fastai) (19.3.1)\n",
            "Requirement already satisfied, skipping upgrade: requests in /usr/local/lib/python3.7/dist-packages (from fastai) (2.23.0)\n",
            "Requirement already satisfied, skipping upgrade: matplotlib in /usr/local/lib/python3.7/dist-packages (from fastai) (3.2.2)\n",
            "Requirement already satisfied, skipping upgrade: joblib>=0.11 in /usr/local/lib/python3.7/dist-packages (from scikit-learn->fastai) (1.0.1)\n",
            "Requirement already satisfied, skipping upgrade: numpy>=1.11.0 in /usr/local/lib/python3.7/dist-packages (from scikit-learn->fastai) (1.19.5)\n",
            "Requirement already satisfied, skipping upgrade: thinc==7.4.0 in /usr/local/lib/python3.7/dist-packages (from spacy<4->fastai) (7.4.0)\n",
            "Requirement already satisfied, skipping upgrade: blis<0.5.0,>=0.4.0 in /usr/local/lib/python3.7/dist-packages (from spacy<4->fastai) (0.4.1)\n",
            "Requirement already satisfied, skipping upgrade: murmurhash<1.1.0,>=0.28.0 in /usr/local/lib/python3.7/dist-packages (from spacy<4->fastai) (1.0.5)\n",
            "Requirement already satisfied, skipping upgrade: catalogue<1.1.0,>=0.0.7 in /usr/local/lib/python3.7/dist-packages (from spacy<4->fastai) (1.0.0)\n",
            "Requirement already satisfied, skipping upgrade: plac<1.2.0,>=0.9.6 in /usr/local/lib/python3.7/dist-packages (from spacy<4->fastai) (1.1.3)\n",
            "Requirement already satisfied, skipping upgrade: setuptools in /usr/local/lib/python3.7/dist-packages (from spacy<4->fastai) (57.0.0)\n",
            "Requirement already satisfied, skipping upgrade: srsly<1.1.0,>=1.0.2 in /usr/local/lib/python3.7/dist-packages (from spacy<4->fastai) (1.0.5)\n",
            "Requirement already satisfied, skipping upgrade: preshed<3.1.0,>=3.0.2 in /usr/local/lib/python3.7/dist-packages (from spacy<4->fastai) (3.0.5)\n",
            "Requirement already satisfied, skipping upgrade: cymem<2.1.0,>=2.0.2 in /usr/local/lib/python3.7/dist-packages (from spacy<4->fastai) (2.0.5)\n",
            "Requirement already satisfied, skipping upgrade: wasabi<1.1.0,>=0.4.0 in /usr/local/lib/python3.7/dist-packages (from spacy<4->fastai) (0.8.2)\n",
            "Requirement already satisfied, skipping upgrade: tqdm<5.0.0,>=4.38.0 in /usr/local/lib/python3.7/dist-packages (from spacy<4->fastai) (4.41.1)\n",
            "Requirement already satisfied, skipping upgrade: pyparsing>=2.0.2 in /usr/local/lib/python3.7/dist-packages (from packaging->fastai) (2.4.7)\n",
            "Requirement already satisfied, skipping upgrade: pytz>=2017.2 in /usr/local/lib/python3.7/dist-packages (from pandas->fastai) (2018.9)\n",
            "Requirement already satisfied, skipping upgrade: python-dateutil>=2.7.3 in /usr/local/lib/python3.7/dist-packages (from pandas->fastai) (2.8.1)\n",
            "Requirement already satisfied, skipping upgrade: typing-extensions in /usr/local/lib/python3.7/dist-packages (from torch<1.10,>=1.7.0->fastai) (3.7.4.3)\n",
            "Requirement already satisfied, skipping upgrade: chardet<4,>=3.0.2 in /usr/local/lib/python3.7/dist-packages (from requests->fastai) (3.0.4)\n",
            "Requirement already satisfied, skipping upgrade: idna<3,>=2.5 in /usr/local/lib/python3.7/dist-packages (from requests->fastai) (2.10)\n",
            "Requirement already satisfied, skipping upgrade: certifi>=2017.4.17 in /usr/local/lib/python3.7/dist-packages (from requests->fastai) (2021.5.30)\n",
            "Requirement already satisfied, skipping upgrade: urllib3!=1.25.0,!=1.25.1,<1.26,>=1.21.1 in /usr/local/lib/python3.7/dist-packages (from requests->fastai) (1.24.3)\n",
            "Requirement already satisfied, skipping upgrade: kiwisolver>=1.0.1 in /usr/local/lib/python3.7/dist-packages (from matplotlib->fastai) (1.3.1)\n",
            "Requirement already satisfied, skipping upgrade: cycler>=0.10 in /usr/local/lib/python3.7/dist-packages (from matplotlib->fastai) (0.10.0)\n",
            "Requirement already satisfied, skipping upgrade: importlib-metadata>=0.20; python_version < \"3.8\" in /usr/local/lib/python3.7/dist-packages (from catalogue<1.1.0,>=0.0.7->spacy<4->fastai) (4.5.0)\n",
            "Requirement already satisfied, skipping upgrade: six>=1.5 in /usr/local/lib/python3.7/dist-packages (from python-dateutil>=2.7.3->pandas->fastai) (1.15.0)\n",
            "Requirement already satisfied, skipping upgrade: zipp>=0.5 in /usr/local/lib/python3.7/dist-packages (from importlib-metadata>=0.20; python_version < \"3.8\"->catalogue<1.1.0,>=0.0.7->spacy<4->fastai) (3.4.1)\n",
            "Installing collected packages: fastcore, fastai\n",
            "  Found existing installation: fastai 1.0.61\n",
            "    Uninstalling fastai-1.0.61:\n",
            "      Successfully uninstalled fastai-1.0.61\n",
            "Successfully installed fastai-2.4 fastcore-1.3.20\n"
          ],
          "name": "stdout"
        },
        {
          "output_type": "display_data",
          "data": {
            "application/vnd.colab-display-data+json": {
              "pip_warning": {
                "packages": [
                  "fastai"
                ]
              }
            }
          },
          "metadata": {
            "tags": []
          }
        }
      ]
    },
    {
      "cell_type": "code",
      "metadata": {
        "colab": {
          "base_uri": "https://localhost:8080/",
          "height": 197
        },
        "id": "CajRmY9l13I1",
        "outputId": "429a93bc-63e5-428d-ca6e-e63232fb4de9"
      },
      "source": [
        "from fastai.data.core import DataLoaders\n",
        " \n",
        "dls = DataLoaders(trainloader, testloader)\n"
      ],
      "execution_count": 15,
      "outputs": [
        {
          "output_type": "error",
          "ename": "NameError",
          "evalue": "ignored",
          "traceback": [
            "\u001b[0;31m---------------------------------------------------------------------------\u001b[0m",
            "\u001b[0;31mNameError\u001b[0m                                 Traceback (most recent call last)",
            "\u001b[0;32m<ipython-input-15-fd363e7fde8f>\u001b[0m in \u001b[0;36m<module>\u001b[0;34m()\u001b[0m\n\u001b[1;32m      1\u001b[0m \u001b[0;32mfrom\u001b[0m \u001b[0mfastai\u001b[0m\u001b[0;34m.\u001b[0m\u001b[0mdata\u001b[0m\u001b[0;34m.\u001b[0m\u001b[0mcore\u001b[0m \u001b[0;32mimport\u001b[0m \u001b[0mDataLoaders\u001b[0m\u001b[0;34m\u001b[0m\u001b[0;34m\u001b[0m\u001b[0m\n\u001b[1;32m      2\u001b[0m \u001b[0;34m\u001b[0m\u001b[0m\n\u001b[0;32m----> 3\u001b[0;31m \u001b[0mdls\u001b[0m \u001b[0;34m=\u001b[0m \u001b[0mDataLoaders\u001b[0m\u001b[0;34m(\u001b[0m\u001b[0mtrainloader\u001b[0m\u001b[0;34m,\u001b[0m \u001b[0mtestloader\u001b[0m\u001b[0;34m)\u001b[0m\u001b[0;34m\u001b[0m\u001b[0;34m\u001b[0m\u001b[0m\n\u001b[0m",
            "\u001b[0;31mNameError\u001b[0m: name 'trainloader' is not defined"
          ]
        }
      ]
    },
    {
      "cell_type": "markdown",
      "metadata": {
        "id": "NYRNtLPn2ALX"
      },
      "source": [
        "Наконец, мы собираемся завершить все это в Learner. Как уже упоминалось, Learner - это клей, который соединяет все вместе и позволяет пользователям использовать политику Лесли Смит \"Один цикл\", поиск скорости обучения и другие преимущества обучения fastai.\n",
        "Давайте создадим его, передав наши dls, модель, оптимизатор и функцию потерь:\n"
      ]
    },
    {
      "cell_type": "code",
      "metadata": {
        "id": "NjrAK9Qj2Dfj"
      },
      "source": [
        "from fastai.learner import Learner"
      ],
      "execution_count": null,
      "outputs": []
    },
    {
      "cell_type": "markdown",
      "metadata": {
        "id": "uXvr_gwP2Jot"
      },
      "source": [
        "Чтобы получить причудливо выглядящий прогресс-бар fastai, нам нужно импортировать ProgressCallback:\n"
      ]
    },
    {
      "cell_type": "code",
      "metadata": {
        "id": "4AH1026Q2KhC"
      },
      "source": [
        "from fastai.callback.progress import ProgressCallback\n"
      ],
      "execution_count": null,
      "outputs": []
    },
    {
      "cell_type": "markdown",
      "metadata": {
        "id": "HbmfR5uS2Nry"
      },
      "source": [
        "Нам также нужно передать CudaCallback, чтобы наши пакеты можно было переместить на GPU (DataLoaders в fastai может сделать это автоматически).\n"
      ]
    },
    {
      "cell_type": "code",
      "metadata": {
        "id": "znePWOVh2Qiz"
      },
      "source": [
        "from fastai.callback.data import CudaCallback\n",
        " \n",
        "learn = Learner(dls, net, loss_func=criterion, opt_func=opt_func, cbs=[CudaCallback])\n",
        " \n"
      ],
      "execution_count": null,
      "outputs": []
    },
    {
      "cell_type": "markdown",
      "metadata": {
        "id": "iPyAN7Ek2S12"
      },
      "source": [
        "Наконец, давайте проведем минимальную тренировку.\n",
        "Теперь у нас есть все необходимое для базовой подгонки:\n",
        " Примечание: Поскольку мы уже передали скорость обучения в Learner, нам не нужно передавать ее здесь.\n"
      ]
    },
    {
      "cell_type": "code",
      "metadata": {
        "id": "vcQRCvTa2Vtq"
      },
      "source": [
        "learn.fit(2)"
      ],
      "execution_count": null,
      "outputs": []
    },
    {
      "cell_type": "markdown",
      "metadata": {
        "id": "VUQLT66x2Ycm"
      },
      "source": [
        "Что дальше?\n",
        "Отлично, теперь мы обучили нашу модель, но что нам с ней делать? Как ее вывести?\n",
        "Ваша модель находится в learn.model, и мы уже видели, что ранее мы передали обычную модель Pytorch. Поскольку мы используем базовый класс Learner из fastai, сама модель не была изменена. В результате, это все еще обычная модель Pytorch, которую мы можем сохранить:\n"
      ]
    },
    {
      "cell_type": "code",
      "metadata": {
        "id": "HtIDCOlf2dCG"
      },
      "source": [
        "torch.save(learn.model.state_dict(), './cifar_net.pth')\n"
      ],
      "execution_count": null,
      "outputs": []
    },
    {
      "cell_type": "markdown",
      "metadata": {
        "id": "UfTO0XhX2gjt"
      },
      "source": [
        "И это действительно все! Как вы можете видеть, минимальное, что вы можете получить при использовании фреймворка fastai, это:\n",
        "Pytorch DataLoader\n",
        "Pytorch model\n",
        "fastai Learner\n",
        "fastai Optimizer\n",
        "Заключительные замечания\n",
        "Я надеюсь, что это просветило вас о том, насколько гибким может быть фреймворк fastai для ваших учебных нужд с идеалистической целью просто получить модель.\n",
        "Поскольку мы убрали большую часть  framework fastai, с этого момента вы должны использовать стандартный Pytorch, так как специфические для fastai функции, такие как test_dl и predict, больше не смогут быть использованы, поскольку вы не использовали fastai DataLoader.\n",
        "Спасибо, что читаете!\n"
      ]
    },
    {
      "cell_type": "markdown",
      "metadata": {
        "id": "gqL4GDnQ1O4F"
      },
      "source": [
        ""
      ]
    }
  ]
}