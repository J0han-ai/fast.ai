{
  "nbformat": 4,
  "nbformat_minor": 0,
  "metadata": {
    "colab": {
      "name": "Копия блокнота \"общее ru.ipynb\"",
      "provenance": [],
      "collapsed_sections": [],
      "mount_file_id": "1vveCu71Zwbt2mj2jePOwdSTHN5N-eU19",
      "authorship_tag": "ABX9TyPGbBNhb2ZOvl7edKdAS1AK",
      "include_colab_link": true
    },
    "kernelspec": {
      "name": "python3",
      "display_name": "Python 3"
    },
    "language_info": {
      "name": "python"
    },
    "accelerator": "GPU"
  },
  "cells": [
    {
      "cell_type": "markdown",
      "metadata": {
        "id": "view-in-github",
        "colab_type": "text"
      },
      "source": [
        "<a href=\"https://colab.research.google.com/github/J0han-ai/fast.ai/blob/main/PytorchCallback%22.ipynb\" target=\"_parent\"><img src=\"https://colab.research.google.com/assets/colab-badge.svg\" alt=\"Open In Colab\"/></a>"
      ]
    },
    {
      "cell_type": "code",
      "metadata": {
        "id": "1gS83PG5VSJs"
      },
      "source": [
        "!pip install -Uqq fastbook\n",
        "import fastbook\n",
        "fastbook.setup_book()"
      ],
      "execution_count": 25,
      "outputs": []
    },
    {
      "cell_type": "code",
      "metadata": {
        "id": "c2ichgyyVqbH",
        "colab": {
          "base_uri": "https://localhost:8080/"
        },
        "outputId": "64426e5c-c5eb-4fd0-e336-fa088efea93d"
      },
      "source": [
        "import fastcore\n",
        "import fastai\n",
        "print(f'fastcore version {fastcore.__version__} installed.')\n",
        "print(f'fastai version {fastai.__version__} installed.')"
      ],
      "execution_count": 26,
      "outputs": [
        {
          "output_type": "stream",
          "text": [
            "fastcore version 1.3.20 installed.\n",
            "fastai version 2.4 installed.\n"
          ],
          "name": "stdout"
        }
      ]
    },
    {
      "cell_type": "markdown",
      "metadata": {
        "id": "vmdqIghr2oVX"
      },
      "source": [
        "Pytorch to fastai, Bridging the Gap\n",
        "Понимание того, как перенести код Pytorch в пространство fastai \n",
        "\n",
        "Feb 14, 2021 - 4 min read\n",
        "\n",
        "\n",
        "\n",
        "\n",
        "Эта статья также представляет собой Jupyter Notebook, доступный для запуска сверху вниз. В нем будут фрагменты кода, которые вы сможете запустить в любой среде.\n",
        "Ниже приведены версии fastai, fastcore, torch и torchvision, работающие на момент написания этой статьи:\n",
        "fastai: 2.2.5\n",
        "fastcore: 1.3.19\n",
        "torch: 1.7.0+cu101\n",
        "torchvision: 0.8.1+cu101\n",
        "\n",
        "Решение проблемы \"слона в комнате\n",
        "Недавно я опубликовал твит с вопросом о том, с чем люди больше всего сталкиваются в fastai, и самым популярным ответом был вопрос о том, как минимально интегрироваться с Pytorch. Похоже, сложилось впечатление, что для использования fastai нужно использовать только полный fastai API, и ничего больше.\n",
        "Давайте сейчас развеем это заблуждение:\n",
        "  Важно: fastai по своей сути - это цикл обучения, разработанный для того, чтобы быть независимым от фреймворка. Вы можете использовать любую версию Pytorch, какую захотите, и использовать fastai только для быстрого и эффективного обучения модели с использованием самых современных методов.\n",
        "План\n",
        "Теперь, когда все заблуждения устранены, давайте рассмотрим, как это должно происходить. Мы будем следовать официальному руководству Pytorch CIFAR10 и покажем, что минимально необходимо сделать во фреймворке fastai, чтобы использовать все преимущества Learner. Это будет включать в себя:\n",
        "Набор данных\n",
        "Загрузчики данных\n",
        "Модель\n",
        "Оптимизатор\n",
        "Набор данных и загрузчики данных\n",
        "Следуя руководству, мы загрузим набор данных, используя только torchvision. Сначала мы возьмем наши импорты:\n"
      ]
    },
    {
      "cell_type": "code",
      "metadata": {
        "id": "rfOSZQoY04eT"
      },
      "source": [
        "import torch\n",
        "import torchvision\n",
        "import torchvision.transforms as transforms\n"
      ],
      "execution_count": 27,
      "outputs": []
    },
    {
      "cell_type": "markdown",
      "metadata": {
        "id": "_2RkUnkgv-Vz"
      },
      "source": [
        "Далее мы определим некоторые минимальные преобразования:"
      ]
    },
    {
      "cell_type": "code",
      "metadata": {
        "id": "90tgXGuywY1y"
      },
      "source": [
        "transform = transforms.Compose(\n",
        "    [transforms.ToTensor(),\n",
        "     transforms.Normalize((0.5,0.5,0.5), (0.5,0.5,0.5))])\n"
      ],
      "execution_count": 28,
      "outputs": []
    },
    {
      "cell_type": "code",
      "metadata": {
        "id": "6MkpveXUIIrk"
      },
      "source": [
        "from torchvision import datasets, transforms\n",
        "import torch\n",
        "import matplotlib.pyplot as plt"
      ],
      "execution_count": 29,
      "outputs": []
    },
    {
      "cell_type": "markdown",
      "metadata": {
        "id": "YVmkGt451ANG"
      },
      "source": [
        "Далее мы определим некоторые минимальные преобразования:\n"
      ]
    },
    {
      "cell_type": "code",
      "metadata": {
        "id": "hH1F05481EVW"
      },
      "source": [
        "transform = transforms.Compose(\n",
        "    [transforms.ToTensor(),\n",
        "     transforms.Normalize((0.5,0.5,0.5), (0.5,0.5,0.5))])\n",
        "\n"
      ],
      "execution_count": 30,
      "outputs": []
    },
    {
      "cell_type": "markdown",
      "metadata": {
        "id": "V0gjrCGR1ISR"
      },
      "source": [
        "Перед загрузкой наших обучающего и тестового наборов:\n",
        " Примечание: я использую соглашения об именовании, аналогичные тому, как fastai называет вещи, так что вы можете видеть, как они могут быть связаны друг с другом\n"
      ]
    },
    {
      "cell_type": "code",
      "metadata": {
        "id": "odoECvt51LsV",
        "colab": {
          "base_uri": "https://localhost:8080/"
        },
        "outputId": "2356fddd-fdcd-459e-f816-abf67d699b0d"
      },
      "source": [
        "dset_train = torchvision.datasets.CIFAR10(root='content/cifar10', train=True,\n",
        "                                        download=True, transform=transform)\n",
        " "
      ],
      "execution_count": 31,
      "outputs": [
        {
          "output_type": "stream",
          "text": [
            "Files already downloaded and verified\n"
          ],
          "name": "stdout"
        }
      ]
    },
    {
      "cell_type": "code",
      "metadata": {
        "id": "5q8NK-hKLG37",
        "colab": {
          "base_uri": "https://localhost:8080/"
        },
        "outputId": "6a8b845e-04c6-4281-eca1-1372063b9ff6"
      },
      "source": [
        "dset_test = torchvision.datasets.CIFAR10(root='./data', train=False,\n",
        "                                       download=True, transform=transform)\n"
      ],
      "execution_count": 32,
      "outputs": [
        {
          "output_type": "stream",
          "text": [
            "Files already downloaded and verified\n"
          ],
          "name": "stdout"
        }
      ]
    },
    {
      "cell_type": "markdown",
      "metadata": {
        "id": "ER5UEeHm50f5"
      },
      "source": [
        "Files already downloaded and verified\n",
        "Next we'll make our Dataloaders:"
      ]
    },
    {
      "cell_type": "code",
      "metadata": {
        "id": "jIK5ppeJ52cO"
      },
      "source": [
        "trainloader = torch.utils.data.DataLoader(dset_train, batch_size=4,\n",
        "                                          shuffle=True, num_workers=2)\n",
        "testloader = torch.utils.data.DataLoader(dset_test, batch_size=4,\n",
        "                                         shuffle=False, num_workers=2)\n",
        " "
      ],
      "execution_count": 33,
      "outputs": []
    },
    {
      "cell_type": "markdown",
      "metadata": {
        "id": "QNXzyA0n1UI6"
      },
      "source": [
        "И на этом мы пока остановимся, перейдем к следующей модели\n",
        "Модель\n",
        "Мы возьмем архитектуру из учебника и используем ее здесь:\n"
      ]
    },
    {
      "cell_type": "code",
      "metadata": {
        "id": "gHF9iLNK1Xr6"
      },
      "source": [
        "import torch.nn as nn\n",
        "import torch.nn.functional as F\n",
        " \n",
        "class Net(nn.Module):\n",
        "    def __init__(self):\n",
        "        super(Net, self).__init__()\n",
        "        self.conv1 = nn.Conv2d(3, 6, 5)\n",
        "        self.pool = nn.MaxPool2d(2, 2)\n",
        "        self.conv2 = nn.Conv2d(6, 16, 5)\n",
        "        self.fc1 = nn.Linear(16 * 5 * 5, 120)\n",
        "        self.fc2 = nn.Linear(120, 84)\n",
        "        self.fc3 = nn.Linear(84, 10)\n",
        "\n",
        "    def forward(self, x):\n",
        "        x = self.pool(F.relu(self.conv1(x)))\n",
        "        x = self.pool(F.relu(self.conv2(x)))\n",
        "        x = x.view(-1, 16 * 5 * 5)\n",
        "        x = F.relu(self.fc1(x))\n",
        "        x = F.relu(self.fc2(x))\n",
        "        x = self.fc3(x)\n",
        "        return x\n"
      ],
      "execution_count": 34,
      "outputs": []
    },
    {
      "cell_type": "markdown",
      "metadata": {
        "id": "yAd0mw8w1a1b"
      },
      "source": [
        "И наконец, мы создадим его экземпляр:\n"
      ]
    },
    {
      "cell_type": "code",
      "metadata": {
        "id": "j6zXKcKv1c83"
      },
      "source": [
        "net = Net()\n"
      ],
      "execution_count": 35,
      "outputs": []
    },
    {
      "cell_type": "markdown",
      "metadata": {
        "id": "cY6FyiOB1fyX"
      },
      "source": [
        "Функция потерь и оптимизатор\n",
        "Далее мы введем их функцию потерь и оптимизатор.\n",
        "Функция потерь достаточно проста:\n"
      ]
    },
    {
      "cell_type": "code",
      "metadata": {
        "id": "62irChuW1iMx"
      },
      "source": [
        "criterion = nn.CrossEntropyLoss()\n"
      ],
      "execution_count": 36,
      "outputs": []
    },
    {
      "cell_type": "markdown",
      "metadata": {
        "id": "llQ08xge1ldg"
      },
      "source": [
        "Однако оптимизатор требует немного магии fastai, в частности, в виде OptimWrapper. Наша функция оптимизатора должна быть определена следующим образом"
      ]
    },
    {
      "cell_type": "code",
      "metadata": {
        "id": "r7Gz2KZK1odo"
      },
      "source": [
        "from fastai.optimizer import OptimWrapper\n",
        "from torch import optim\n",
        " \n"
      ],
      "execution_count": 37,
      "outputs": []
    },
    {
      "cell_type": "code",
      "metadata": {
        "id": "0DYfLZVgMLEq"
      },
      "source": [
        "def opt_func(params, **kwargs): return OptimWrapper(optim.SGD(params, lr=0.001))\n"
      ],
      "execution_count": 38,
      "outputs": []
    },
    {
      "cell_type": "markdown",
      "metadata": {
        "id": "BejRXKdr1rM0"
      },
      "source": [
        "Обучение\n",
        "Теперь у нас есть все необходимое для обучения модели, так что теперь давайте запустим цикл обучения fastai, также известный как Learner.\n",
        " Learner fastai ожидает, что будут использоваться DataLoader'ы, а не просто один DataLoader, поэтому давайте сделаем так:\n",
        " Примечание: fastai также ожидает присутствия валидационного DataLoader, поэтому мы будем привязывать сюда тестовый загрузчик\n"
      ]
    },
    {
      "cell_type": "code",
      "metadata": {
        "id": "CajRmY9l13I1"
      },
      "source": [
        "from fastai.data.core import DataLoaders\n",
        " \n",
        "dls = DataLoaders(trainloader, testloader)\n"
      ],
      "execution_count": 39,
      "outputs": []
    },
    {
      "cell_type": "code",
      "metadata": {
        "id": "SKA92Gt2Zexo"
      },
      "source": [
        "! [ -e /content ] && pip install -Uqq fastai  # upgrade fastai on colab"
      ],
      "execution_count": 40,
      "outputs": []
    },
    {
      "cell_type": "code",
      "metadata": {
        "id": "88fNHiRtboVH"
      },
      "source": [
        ""
      ],
      "execution_count": 40,
      "outputs": []
    },
    {
      "cell_type": "code",
      "metadata": {
        "id": "pePJxVtNbNkm"
      },
      "source": [
        "#export\n",
        "from fastai.basics import *"
      ],
      "execution_count": 41,
      "outputs": []
    },
    {
      "cell_type": "code",
      "metadata": {
        "id": "KIJ8DcFObNkn"
      },
      "source": [
        "#hide\n",
        "from nbdev.showdoc import *\n",
        "from fastai.test_utils import *"
      ],
      "execution_count": 42,
      "outputs": []
    },
    {
      "cell_type": "code",
      "metadata": {
        "id": "WTZdqg1QbNko"
      },
      "source": [
        "#export\n",
        "class CollectDataCallback(Callback):\n",
        "    \"Collect all batches, along with `pred` and `loss`, into `self.data`. Mainly for testing\"\n",
        "    def before_fit(self): self.data = L()\n",
        "    def after_batch(self): \n",
        "        self.data.append(self.learn.to_detach((self.xb,self.yb,self.pred,self.loss)))"
      ],
      "execution_count": 43,
      "outputs": []
    },
    {
      "cell_type": "markdown",
      "metadata": {
        "id": "NYRNtLPn2ALX"
      },
      "source": [
        "Наконец, мы собираемся завершить все это в Learner. Как уже упоминалось, Learner - это клей, который соединяет все вместе и позволяет пользователям использовать политику Лесли Смит \"Один цикл\", поиск скорости обучения и другие преимущества обучения fastai.\n",
        "Давайте создадим его, передав наши dls, модель, оптимизатор и функцию потерь:\n"
      ]
    },
    {
      "cell_type": "code",
      "metadata": {
        "id": "NjrAK9Qj2Dfj"
      },
      "source": [
        "from fastai.learner import Learner"
      ],
      "execution_count": 44,
      "outputs": []
    },
    {
      "cell_type": "markdown",
      "metadata": {
        "id": "uXvr_gwP2Jot"
      },
      "source": [
        "Чтобы получить причудливо выглядящий прогресс-бар fastai, нам нужно импортировать ProgressCallback:\n"
      ]
    },
    {
      "cell_type": "code",
      "metadata": {
        "id": "4AH1026Q2KhC"
      },
      "source": [
        "from fastai.callback.progress import ProgressCallback\n"
      ],
      "execution_count": 45,
      "outputs": []
    },
    {
      "cell_type": "code",
      "metadata": {
        "id": "iXrJNRIbhdiY"
      },
      "source": [
        ""
      ],
      "execution_count": 45,
      "outputs": []
    },
    {
      "cell_type": "code",
      "metadata": {
        "id": "k9g5G_TbHAc4",
        "colab": {
          "base_uri": "https://localhost:8080/",
          "height": 214
        },
        "outputId": "500e8be5-e8dc-4aec-b630-4e1b93eba204"
      },
      "source": [
        "# Move the model to GPU if available & initialize the weights & biases:\n",
        "if torch.cuda.is_available():\n",
        "    myresnet34.to(device = 'cuda')\n",
        "kaiming_init(myresnet34)"
      ],
      "execution_count": 46,
      "outputs": [
        {
          "output_type": "error",
          "ename": "NameError",
          "evalue": "ignored",
          "traceback": [
            "\u001b[0;31m---------------------------------------------------------------------------\u001b[0m",
            "\u001b[0;31mNameError\u001b[0m                                 Traceback (most recent call last)",
            "\u001b[0;32m<ipython-input-46-734d4bdf29af>\u001b[0m in \u001b[0;36m<module>\u001b[0;34m()\u001b[0m\n\u001b[1;32m      1\u001b[0m \u001b[0;31m# Move the model to GPU if available & initialize the weights & biases:\u001b[0m\u001b[0;34m\u001b[0m\u001b[0;34m\u001b[0m\u001b[0;34m\u001b[0m\u001b[0m\n\u001b[1;32m      2\u001b[0m \u001b[0;32mif\u001b[0m \u001b[0mtorch\u001b[0m\u001b[0;34m.\u001b[0m\u001b[0mcuda\u001b[0m\u001b[0;34m.\u001b[0m\u001b[0mis_available\u001b[0m\u001b[0;34m(\u001b[0m\u001b[0;34m)\u001b[0m\u001b[0;34m:\u001b[0m\u001b[0;34m\u001b[0m\u001b[0;34m\u001b[0m\u001b[0m\n\u001b[0;32m----> 3\u001b[0;31m     \u001b[0mmyresnet34\u001b[0m\u001b[0;34m.\u001b[0m\u001b[0mto\u001b[0m\u001b[0;34m(\u001b[0m\u001b[0mdevice\u001b[0m \u001b[0;34m=\u001b[0m \u001b[0;34m'cuda'\u001b[0m\u001b[0;34m)\u001b[0m\u001b[0;34m\u001b[0m\u001b[0;34m\u001b[0m\u001b[0m\n\u001b[0m\u001b[1;32m      4\u001b[0m \u001b[0mkaiming_init\u001b[0m\u001b[0;34m(\u001b[0m\u001b[0mmyresnet34\u001b[0m\u001b[0;34m)\u001b[0m\u001b[0;34m\u001b[0m\u001b[0;34m\u001b[0m\u001b[0m\n",
            "\u001b[0;31mNameError\u001b[0m: name 'myresnet34' is not defined"
          ]
        }
      ]
    },
    {
      "cell_type": "code",
      "metadata": {
        "id": "Z2zPtHfriAya"
      },
      "source": [
        "doc(Learner)"
      ],
      "execution_count": null,
      "outputs": []
    },
    {
      "cell_type": "code",
      "metadata": {
        "id": "wGK-CYe4iU5F"
      },
      "source": [
        ""
      ],
      "execution_count": null,
      "outputs": []
    },
    {
      "cell_type": "code",
      "metadata": {
        "id": "E7TUT9n84nXS"
      },
      "source": [
        "learn = Learner(dls, model=myresnet34)"
      ],
      "execution_count": null,
      "outputs": []
    },
    {
      "cell_type": "code",
      "metadata": {
        "id": "983MuYisUSpx"
      },
      "source": [
        "# Loss function obtained from training dataset\n",
        "dls.train_ds.loss_func"
      ],
      "execution_count": null,
      "outputs": []
    },
    {
      "cell_type": "code",
      "metadata": {
        "id": "Y50yU4Q8eEiE"
      },
      "source": [
        "# Default Callbacks\n",
        "learn.cbs"
      ],
      "execution_count": null,
      "outputs": []
    },
    {
      "cell_type": "code",
      "metadata": {
        "id": "qfmVndm6iljT"
      },
      "source": [
        ""
      ],
      "execution_count": null,
      "outputs": []
    },
    {
      "cell_type": "code",
      "metadata": {
        "id": "WiolbrNdLGg_"
      },
      "source": [
        "# Sorting order for Callbacks\n",
        "sort_by_run(learn.cbs)"
      ],
      "execution_count": null,
      "outputs": []
    },
    {
      "cell_type": "code",
      "metadata": {
        "colab": {
          "base_uri": "https://localhost:8080/",
          "height": 300
        },
        "id": "krGxJ8QkOD6v",
        "outputId": "3ac14bde-3ba3-410d-e5b8-e3d36fa34b51"
      },
      "source": [
        "learn.lr_find()"
      ],
      "execution_count": null,
      "outputs": [
        {
          "output_type": "display_data",
          "data": {
            "text/html": [
              ""
            ],
            "text/plain": [
              "<IPython.core.display.HTML object>"
            ]
          },
          "metadata": {
            "tags": []
          }
        },
        {
          "output_type": "execute_result",
          "data": {
            "text/plain": [
              "SuggestedLRs(lr_min=0.0013182567432522773, lr_steep=1.5848931980144698e-06)"
            ]
          },
          "metadata": {
            "tags": []
          },
          "execution_count": 21
        },
        {
          "output_type": "display_data",
          "data": {
            "image/png": "[encoded data removed]",
            "text/plain": [
              "<Figure size 432x288 with 1 Axes>"
            ]
          },
          "metadata": {
            "tags": [],
            "needs_background": "light"
          }
        }
      ]
    },
    {
      "cell_type": "markdown",
      "metadata": {
        "id": "HbmfR5uS2Nry"
      },
      "source": [
        "Нам также нужно передать CudaCallback, чтобы наши пакеты можно было переместить на GPU (DataLoaders в fastai может сделать это автоматически).\n"
      ]
    },
    {
      "cell_type": "code",
      "metadata": {
        "id": "8AvQ8xAD7XwW"
      },
      "source": [
        ""
      ],
      "execution_count": null,
      "outputs": []
    },
    {
      "cell_type": "code",
      "metadata": {
        "id": "znePWOVh2Qiz"
      },
      "source": [
        "from fastai.callback.data import CudaCallback\n",
        " \n",
        "learn = Learner(dls, net, loss_func=criterion, opt_func=opt_func, cbs=[CudaCallback])\n",
        " \n"
      ],
      "execution_count": null,
      "outputs": []
    },
    {
      "cell_type": "markdown",
      "metadata": {
        "id": "iPyAN7Ek2S12"
      },
      "source": [
        "Наконец, давайте проведем минимальную тренировку.\n",
        "Теперь у нас есть все необходимое для базовой подгонки:\n",
        " Примечание: Поскольку мы уже передали скорость обучения в Learner, нам не нужно передавать ее здесь.\n"
      ]
    },
    {
      "cell_type": "code",
      "metadata": {
        "id": "vcQRCvTa2Vtq"
      },
      "source": [
        "learn.fit(2)"
      ],
      "execution_count": null,
      "outputs": []
    },
    {
      "cell_type": "markdown",
      "metadata": {
        "id": "VUQLT66x2Ycm"
      },
      "source": [
        "Что дальше?\n",
        "Отлично, теперь мы обучили нашу модель, но что нам с ней делать? Как ее вывести?\n",
        "Ваша модель находится в learn.model, и мы уже видели, что ранее мы передали обычную модель Pytorch. Поскольку мы используем базовый класс Learner из fastai, сама модель не была изменена. В результате, это все еще обычная модель Pytorch, которую мы можем сохранить:\n"
      ]
    },
    {
      "cell_type": "code",
      "metadata": {
        "id": "HtIDCOlf2dCG"
      },
      "source": [
        "torch.save(learn.model.state_dict(), './cifar_net.pth')\n"
      ],
      "execution_count": null,
      "outputs": []
    },
    {
      "cell_type": "markdown",
      "metadata": {
        "id": "UfTO0XhX2gjt"
      },
      "source": [
        "И это действительно все! Как вы можете видеть, минимальное, что вы можете получить при использовании фреймворка fastai, это:\n",
        "Pytorch DataLoader\n",
        "Pytorch model\n",
        "fastai Learner\n",
        "fastai Optimizer\n",
        "Заключительные замечания\n",
        "Я надеюсь, что это просветило вас о том, насколько гибким может быть фреймворк fastai для ваших учебных нужд с идеалистической целью просто получить модель.\n",
        "Поскольку мы убрали большую часть  framework fastai, с этого момента вы должны использовать стандартный Pytorch, так как специфические для fastai функции, такие как test_dl и predict, больше не смогут быть использованы, поскольку вы не использовали fastai DataLoader.\n",
        "Спасибо, что читаете!\n"
      ]
    },
    {
      "cell_type": "markdown",
      "metadata": {
        "id": "gqL4GDnQ1O4F"
      },
      "source": [
        ""
      ]
    }
  ]
}